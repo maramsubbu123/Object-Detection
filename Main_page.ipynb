{
 "cells": [
  {
   "cell_type": "code",
   "execution_count": 1,
   "id": "ce339fe7",
   "metadata": {},
   "outputs": [],
   "source": [
    "import tkinter as tk \n",
    "from PIL import Image,ImageTk\n",
    "import subprocess\n",
    "\n",
    "def Live():\n",
    "    subprocess.call(['python', r'Livecam_Detect.py'])\n",
    "\n",
    "def Video():\n",
    "    subprocess.call(['python', r'Video_Detect.py'])\n",
    "    \n",
    "def Images():\n",
    "    subprocess.call(['python',r'Image_Detect.py'])\n",
    "\n",
    "Main_frame = tk.Tk()\n",
    "Main_frame.geometry(\"1235x725\")\n",
    "Main_frame.resizable(False,False)\n",
    "Main_frame.title(\"OBJECT DETECTION\")\n",
    "Main_frame.configure(background = 'black') \n",
    "\n",
    "Main_frame.grid_rowconfigure(0, weight = 1) \n",
    "Main_frame.grid_columnconfigure(0, weight = 1) \n",
    "\n",
    "Bg_image = Image.open(r\"C:\\Users\\praka\\Desktop\\Minor Project\\MainBG2.png\")\n",
    "Bg_image_p = ImageTk.PhotoImage(Bg_image)\n",
    "Bg_label = tk.Label(Main_frame,image = Bg_image_p) \n",
    "Bg_label.place(x=0,y=0)\n",
    "\n",
    "\n",
    "sub1img = Image.open(r\"C:\\Users\\praka\\Desktop\\Minor Project\\wedcam.png\")\n",
    "sub1img_p = ImageTk.PhotoImage(sub1img)\n",
    "\n",
    "sub1button = tk.Button(Main_frame,command = Live,image = sub1img_p , bd=0 ,bg='#F6F4F4',activebackground='white')\n",
    "sub1button.place(x = 700, y = 150)\n",
    "sub1button_label = tk.Label(Main_frame,text = \"Web Cam\",fg=\"black\",bg=\"#0d488f\",font=('Gabriola', 20))\n",
    "sub1button_label.place(x=709, y=252)\n",
    "\n",
    "\n",
    "sub2img = Image.open(r\"C:\\Users\\praka\\Desktop\\Minor Project\\icon2 resised.png\")\n",
    "sub2img_p = ImageTk.PhotoImage(sub2img)\n",
    "\n",
    "sub2button = tk.Button(Main_frame,command = Video, image = sub2img_p , bd=0 ,bg='#F6F4F4',activebackground='white')\n",
    "sub2button.place(x = 700, y = 350)\n",
    "sub2button_label = tk.Label(Main_frame,text = \"Video\",fg=\"black\",bg=\"#0d488f\",font=('Gabriola', 20))\n",
    "sub2button_label.place(x=720, y=432)\n",
    "\n",
    "# sub3img = Image.open(r\"C:\\Users\\kisha\\Downloads\\IMAGE 6.1 (1).jpg\")\n",
    "# sub3img_p = ImageTk.PhotoImage(sub3img)\n",
    "\n",
    "# sub3button = tk.Button(Main_frame,command = Images, image = sub3img_p , bd=0 ,bg='#F6F4F4',activebackground='white')\n",
    "# sub3button.place(x = 700, y = 550)\n",
    "# sub3button_label = tk.Label(Main_frame,text = \"Image\",fg=\"black\",bg=\"#0d488f\",font=('Gabriola', 20))\n",
    "# sub3button_label.place(x=720, y=632)\n",
    "\n",
    "Main_frame.mainloop()"
   ]
  },
  {
   "cell_type": "code",
   "execution_count": null,
   "id": "de646519",
   "metadata": {},
   "outputs": [],
   "source": []
  },
  {
   "cell_type": "code",
   "execution_count": null,
   "id": "11b79e3b",
   "metadata": {},
   "outputs": [],
   "source": []
  },
  {
   "cell_type": "code",
   "execution_count": null,
   "id": "5bfd00b7",
   "metadata": {},
   "outputs": [],
   "source": []
  }
 ],
 "metadata": {
  "kernelspec": {
   "display_name": "Python 3",
   "language": "python",
   "name": "python3"
  },
  "language_info": {
   "codemirror_mode": {
    "name": "ipython",
    "version": 3
   },
   "file_extension": ".py",
   "mimetype": "text/x-python",
   "name": "python",
   "nbconvert_exporter": "python",
   "pygments_lexer": "ipython3",
   "version": "3.8.8"
  }
 },
 "nbformat": 4,
 "nbformat_minor": 5
}
